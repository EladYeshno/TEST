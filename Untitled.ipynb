{
 "cells": [
  {
   "cell_type": "markdown",
   "id": "126b2270-575d-4e38-9dbb-f66ea881db2d",
   "metadata": {},
   "source": [
    "# Data Science Tools and Ecosystem"
   ]
  },
  {
   "cell_type": "markdown",
   "id": "c3d3baa7-930b-44ec-9a22-1f277e354b99",
   "metadata": {},
   "source": [
    "In this notebook, Data Science Tools and Ecosystem are summarized."
   ]
  },
  {
   "cell_type": "markdown",
   "id": "b26dd42a-1c3a-47c1-b8fc-561a0980b049",
   "metadata": {},
   "source": [
    "**Objectives:**\n",
    "- jupyter notebook\n",
    "- Python\n",
    "- Rstudio"
   ]
  },
  {
   "cell_type": "markdown",
   "id": "54ae63c3-22d2-43b3-bae1-f9d934a7e6cf",
   "metadata": {},
   "source": [
    "Some of the popular languages that Data Scientists use are:\n",
    "\n",
    "1. python\n",
    "2. R\n",
    "3. wallak wallak"
   ]
  },
  {
   "cell_type": "markdown",
   "id": "bc0871cb-8bd0-4a8e-8fbb-3508e2613050",
   "metadata": {},
   "source": [
    "Some of the commonly used libraries used by Data Scientists include:\n",
    "\n",
    "1. sklearn\n",
    "2. TensorFlow\n",
    "3. numpy\n"
   ]
  },
  {
   "cell_type": "markdown",
   "id": "836cb6c7-d9b9-4b43-94ba-ec9355b78d01",
   "metadata": {},
   "source": [
    "Data Science Tools|\n",
    "------------------\n",
    "Jupyter Note\n",
    "Rstudio\n",
    "Apache zepelin "
   ]
  },
  {
   "cell_type": "markdown",
   "id": "bf34d82d-ce65-49e2-9510-f05dbf73dac4",
   "metadata": {},
   "source": [
    "### Below are a few examples of evaluating arithmetic expressions in Python"
   ]
  },
  {
   "cell_type": "code",
   "execution_count": 1,
   "id": "6607b532-9581-4b7e-809b-9e1fe7401355",
   "metadata": {},
   "outputs": [
    {
     "data": {
      "text/plain": [
       "17"
      ]
     },
     "execution_count": 1,
     "metadata": {},
     "output_type": "execute_result"
    }
   ],
   "source": [
    "#This a simple arithmetic expression to mutiply then add integers\n",
    "(3*4)+5"
   ]
  },
  {
   "cell_type": "code",
   "execution_count": 5,
   "id": "e4f06c36-7c13-4f9b-9d8e-459102e3250e",
   "metadata": {},
   "outputs": [
    {
     "data": {
      "text/plain": [
       "3.3333333333333335"
      ]
     },
     "execution_count": 5,
     "metadata": {},
     "output_type": "execute_result"
    }
   ],
   "source": [
    "# This will convert 200 minutes to hours by diving by 60\n",
    "200/60"
   ]
  },
  {
   "cell_type": "markdown",
   "id": "f1271b51-90fd-43b4-9bc2-ebc05cf8df4d",
   "metadata": {},
   "source": []
  }
 ],
 "metadata": {
  "kernelspec": {
   "display_name": "Python 3 (ipykernel)",
   "language": "python",
   "name": "python3"
  },
  "language_info": {
   "codemirror_mode": {
    "name": "ipython",
    "version": 3
   },
   "file_extension": ".py",
   "mimetype": "text/x-python",
   "name": "python",
   "nbconvert_exporter": "python",
   "pygments_lexer": "ipython3",
   "version": "3.11.7"
  }
 },
 "nbformat": 4,
 "nbformat_minor": 5
}
